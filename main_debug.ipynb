{
 "cells": [
  {
   "cell_type": "code",
   "execution_count": null,
   "metadata": {},
   "outputs": [],
   "source": [
    "import utils\n",
    "from config import username, password\n",
    "import requests\n",
    "import random\n",
    "import re\n",
    "\n",
    "\n",
    "ss = utils.login(username, password)"
   ]
  },
  {
   "cell_type": "code",
   "execution_count": null,
   "metadata": {},
   "outputs": [],
   "source": [
    "main_resp = ss.get('http://jwc.swjtu.edu.cn/vatuu/AssessAction?setAction=list')\n",
    "\n",
    "access_urls = re.findall('setAction=viewAssess&sid=(.*?)&lid=(.*?)&templateFlag=0',\n",
    "            main_resp.text)\n",
    "for i, (sid, lid) in enumerate(access_urls):\n",
    "    access_urls[i] = f'http://jwc.swjtu.edu.cn/vatuu/AssessAction?setAction=viewAssess&sid={sid}&lid={lid}&templateFlag=0'\n",
    "    print(access_urls[i])\n",
    "    "
   ]
  },
  {
   "cell_type": "code",
   "execution_count": null,
   "metadata": {},
   "outputs": [],
   "source": [
    "url = access_urls[0]  # test, use the fist"
   ]
  },
  {
   "cell_type": "code",
   "execution_count": null,
   "metadata": {},
   "outputs": [],
   "source": [
    "resp = ss.get(url)\n",
    "resp.encoding = resp.apparent_encoding\n",
    "# html = etree.HTML(resp.text)\n",
    "# form = html.xpath('//*[@id=\"answerForm\"]')[0]"
   ]
  },
  {
   "cell_type": "code",
   "execution_count": null,
   "metadata": {},
   "outputs": [],
   "source": [
    "# assess_id = form.xpath('input/@value')[0]\n",
    "# print(assess_id)"
   ]
  },
  {
   "cell_type": "code",
   "execution_count": null,
   "metadata": {},
   "outputs": [],
   "source": [
    "assess_id = re.findall('<input name=\"assess_id\" type=\"hidden\" value=\"(.*?)\"', resp.text)[0]\n",
    "print(assess_id)"
   ]
  },
  {
   "cell_type": "code",
   "execution_count": null,
   "metadata": {},
   "outputs": [],
   "source": [
    "scores = '_5.0_5.0_5.0_5.0_5.0_5.0_5.0_5.0_5.0_5.0_5.0_5.0_5.0_5.0_5.0_5.0__'\n",
    "percents = '_10.0_10.0_10.0_10.0_10.0_10.0_10.0_10.0_10.0_10.0_0.0_0.0_0.0_0.0_0.0_0.0_0.0_0.0'\n",
    "# 常量\n",
    "# templateFlag = '0'\n",
    "# keyword = 'null'\n",
    "# teacherId = ''\n",
    "# setAction = 'answerStudent'"
   ]
  },
  {
   "cell_type": "code",
   "execution_count": null,
   "metadata": {},
   "outputs": [],
   "source": [
    "problem_ids = re.findall('<input name=\"problem_id\" type=\"hidden\" value=\"(.*?)\" perc=', resp.text)\n",
    "for problem_id in problem_ids:\n",
    "    print(problem_id)"
   ]
  },
  {
   "cell_type": "code",
   "execution_count": null,
   "metadata": {},
   "outputs": [],
   "source": [
    "answer_values = []\n",
    "for problem_id in problem_ids[:-2]:\n",
    "    answer_value = re.findall(f'<input type=\"radio\" name=\"problem{problem_id}\" value=\"(.*?)\" score=\"5.0\"', resp.text)[0]\n",
    "    answer_values.append(answer_value)\n",
    "    print(answer_value)"
   ]
  },
  {
   "cell_type": "code",
   "execution_count": null,
   "metadata": {},
   "outputs": [],
   "source": [
    "answer_values.append('老师讲课条理清晰')  # 17题问题：你认为该课程哪个方面你最满意？\n",
    "answer_values.append('无')  # 18题问题：你认为该课程哪个方面最需要改进？"
   ]
  },
  {
   "cell_type": "code",
   "execution_count": null,
   "metadata": {},
   "outputs": [],
   "source": [
    "answer = '_' + '_'.join(answer_values)\n",
    "id = '_' + '_'.join(problem_ids)"
   ]
  },
  {
   "cell_type": "code",
   "execution_count": null,
   "metadata": {},
   "outputs": [],
   "source": [
    "log_id = re.findall('<input type=\"hidden\" name=\"logId\" value=\"(.*?)\"', resp.text)[0]\n",
    "print(log_id)"
   ]
  },
  {
   "cell_type": "code",
   "execution_count": null,
   "metadata": {},
   "outputs": [],
   "source": [
    "form = {\n",
    "    'answer': answer,\n",
    "    'scores': scores,\n",
    "    'percents': percents,\n",
    "    'assess_id': assess_id,\n",
    "    'templateFlag': '0',\n",
    "    't': random.random(),\n",
    "    'keyword': 'null',\n",
    "    'id': id,\n",
    "    'teacherId': '',\n",
    "    'logId': log_id,\n",
    "    'setAction': 'answerStudent'\n",
    "}\n",
    "for i in form.items():\n",
    "    print(i)"
   ]
  },
  {
   "cell_type": "code",
   "execution_count": null,
   "metadata": {},
   "outputs": [],
   "source": [
    "import time\n",
    "time.sleep(60)\n",
    "ss.headers.update({'Referer': resp.url})\n",
    "res = ss.post(url='http://jwc.swjtu.edu.cn/vatuu/AssessAction',\n",
    "        data=form)"
   ]
  },
  {
   "cell_type": "code",
   "execution_count": null,
   "metadata": {},
   "outputs": [],
   "source": [
    "print(res.text)"
   ]
  },
  {
   "cell_type": "code",
   "execution_count": null,
   "metadata": {},
   "outputs": [],
   "source": []
  }
 ],
 "metadata": {
  "kernelspec": {
   "display_name": "Python 3",
   "language": "python",
   "name": "python3"
  },
  "language_info": {
   "codemirror_mode": {
    "name": "ipython",
    "version": 3
   },
   "file_extension": ".py",
   "mimetype": "text/x-python",
   "name": "python",
   "nbconvert_exporter": "python",
   "pygments_lexer": "ipython3",
   "version": "3.11.0"
  },
  "orig_nbformat": 4
 },
 "nbformat": 4,
 "nbformat_minor": 2
}
